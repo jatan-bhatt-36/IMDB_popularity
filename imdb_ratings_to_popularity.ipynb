{
 "cells": [
  {
   "cell_type": "markdown",
   "id": "f85a80d2",
   "metadata": {},
   "source": [
    "## Basic Python - Project <a id='intro'></a>"
   ]
  },
  {
   "cell_type": "markdown",
   "id": "a1262df4",
   "metadata": {},
   "source": [
    "## Introduction <a id='intro'></a>\n",
    "In this project, you will work with data from the entertainment industry. You will study a dataset with records on movies and shows. The research will focus on the \"Golden Age\" of television, which began in 1999 with the release of *The Sopranos* and is still ongoing.\n",
    "\n",
    "The aim of this project is to investigate how the number of votes a title receives impacts its ratings. The assumption is that highly-rated shows (we will focus on TV shows, ignoring movies) released during the \"Golden Age\" of television also have the most votes.\n",
    "\n",
    "### Stages \n",
    "Data on movies and shows is stored in the `/datasets/movies_and_shows.csv` file. There is no information about the quality of the data, so you will need to explore it before doing the analysis.\n",
    "\n",
    "First, you'll evaluate the quality of the data and see whether its issues are significant. Then, during data preprocessing, you will try to account for the most critical problems.\n",
    " \n",
    "Your project will consist of three stages:\n",
    " 1. Data overview\n",
    " 2. Data preprocessing\n",
    " 3. Data analysis"
   ]
  },
  {
   "cell_type": "markdown",
   "id": "ac0593ac",
   "metadata": {},
   "source": [
    "## Stage 1. Data overview <a id='data_review'></a>\n",
    "\n",
    "Open and explore the data."
   ]
  },
  {
   "cell_type": "markdown",
   "id": "4ae6c6ed",
   "metadata": {},
   "source": [
    "<div class=\"alert alert-danger\"; style=\"border-left: 7px solid red\">\n",
    "<b>⛔️ Reviewer's comment, v. 1</b> \n",
    "    \n",
    "Before sending a new version, please click `Kernel - > Restart & Run all` to make sure that your code is working"
   ]
  },
  {
   "cell_type": "markdown",
   "id": "e86ed00e",
   "metadata": {},
   "source": [
    "You'll need `pandas`, so import it."
   ]
  },
  {
   "cell_type": "code",
   "execution_count": 127,
   "id": "1727d3f8",
   "metadata": {
    "trusted": false
   },
   "outputs": [],
   "source": [
    "import pandas as pd # importing pandas\n"
   ]
  },
  {
   "cell_type": "markdown",
   "id": "2dbb9732",
   "metadata": {},
   "source": [
    "<div class=\"alert alert-success\"; style=\"border-left: 7px solid green\">\n",
    "<b>✅ Reviewer's comment, v. 1</b> Needed library has been added </div>"
   ]
  },
  {
   "cell_type": "markdown",
   "id": "9821beeb",
   "metadata": {},
   "source": [
    "Read the `movies_and_shows.csv` file from the `datasets` folder and save it in the `df` variable:"
   ]
  },
  {
   "cell_type": "code",
   "execution_count": 128,
   "id": "fc5a1402",
   "metadata": {
    "trusted": false
   },
   "outputs": [],
   "source": [
    "df = pd.read_csv('/datasets/movies_and_shows.csv') # reading the files and storing them to df\n"
   ]
  },
  {
   "cell_type": "markdown",
   "id": "12025229",
   "metadata": {},
   "source": [
    "<div class=\"alert alert-success\"; style=\"border-left: 7px solid green\">\n",
    "<b>✅ Reviewer's comment, v. 1</b> The correct path to the file is specified: the slash at the beginning of the path is very important, as it indicates that you need to search for the file in the root folder. </div>"
   ]
  },
  {
   "cell_type": "markdown",
   "id": "1cd0a96d",
   "metadata": {},
   "source": [
    "Print the first 10 table rows:"
   ]
  },
  {
   "cell_type": "code",
   "execution_count": 129,
   "id": "acd92001",
   "metadata": {
    "trusted": false
   },
   "outputs": [
    {
     "data": {
      "text/html": [
       "<div>\n",
       "<style scoped>\n",
       "    .dataframe tbody tr th:only-of-type {\n",
       "        vertical-align: middle;\n",
       "    }\n",
       "\n",
       "    .dataframe tbody tr th {\n",
       "        vertical-align: top;\n",
       "    }\n",
       "\n",
       "    .dataframe thead th {\n",
       "        text-align: right;\n",
       "    }\n",
       "</style>\n",
       "<table border=\"1\" class=\"dataframe\">\n",
       "  <thead>\n",
       "    <tr style=\"text-align: right;\">\n",
       "      <th></th>\n",
       "      <th>name</th>\n",
       "      <th>Character</th>\n",
       "      <th>r0le</th>\n",
       "      <th>TITLE</th>\n",
       "      <th>Type</th>\n",
       "      <th>release Year</th>\n",
       "      <th>genres</th>\n",
       "      <th>imdb sc0re</th>\n",
       "      <th>imdb v0tes</th>\n",
       "    </tr>\n",
       "  </thead>\n",
       "  <tbody>\n",
       "    <tr>\n",
       "      <th>0</th>\n",
       "      <td>Robert De Niro</td>\n",
       "      <td>Travis Bickle</td>\n",
       "      <td>ACTOR</td>\n",
       "      <td>Taxi Driver</td>\n",
       "      <td>MOVIE</td>\n",
       "      <td>1976</td>\n",
       "      <td>['drama', 'crime']</td>\n",
       "      <td>8.2</td>\n",
       "      <td>808582.0</td>\n",
       "    </tr>\n",
       "    <tr>\n",
       "      <th>1</th>\n",
       "      <td>Jodie Foster</td>\n",
       "      <td>Iris Steensma</td>\n",
       "      <td>ACTOR</td>\n",
       "      <td>Taxi Driver</td>\n",
       "      <td>MOVIE</td>\n",
       "      <td>1976</td>\n",
       "      <td>['drama', 'crime']</td>\n",
       "      <td>8.2</td>\n",
       "      <td>808582.0</td>\n",
       "    </tr>\n",
       "    <tr>\n",
       "      <th>2</th>\n",
       "      <td>Albert Brooks</td>\n",
       "      <td>Tom</td>\n",
       "      <td>ACTOR</td>\n",
       "      <td>Taxi Driver</td>\n",
       "      <td>MOVIE</td>\n",
       "      <td>1976</td>\n",
       "      <td>['drama', 'crime']</td>\n",
       "      <td>8.2</td>\n",
       "      <td>808582.0</td>\n",
       "    </tr>\n",
       "    <tr>\n",
       "      <th>3</th>\n",
       "      <td>Harvey Keitel</td>\n",
       "      <td>Matthew 'Sport' Higgins</td>\n",
       "      <td>ACTOR</td>\n",
       "      <td>Taxi Driver</td>\n",
       "      <td>MOVIE</td>\n",
       "      <td>1976</td>\n",
       "      <td>['drama', 'crime']</td>\n",
       "      <td>8.2</td>\n",
       "      <td>808582.0</td>\n",
       "    </tr>\n",
       "    <tr>\n",
       "      <th>4</th>\n",
       "      <td>Cybill Shepherd</td>\n",
       "      <td>Betsy</td>\n",
       "      <td>ACTOR</td>\n",
       "      <td>Taxi Driver</td>\n",
       "      <td>MOVIE</td>\n",
       "      <td>1976</td>\n",
       "      <td>['drama', 'crime']</td>\n",
       "      <td>8.2</td>\n",
       "      <td>808582.0</td>\n",
       "    </tr>\n",
       "    <tr>\n",
       "      <th>5</th>\n",
       "      <td>Peter Boyle</td>\n",
       "      <td>Wizard</td>\n",
       "      <td>ACTOR</td>\n",
       "      <td>Taxi Driver</td>\n",
       "      <td>MOVIE</td>\n",
       "      <td>1976</td>\n",
       "      <td>['drama', 'crime']</td>\n",
       "      <td>8.2</td>\n",
       "      <td>808582.0</td>\n",
       "    </tr>\n",
       "    <tr>\n",
       "      <th>6</th>\n",
       "      <td>Leonard Harris</td>\n",
       "      <td>Senator Charles Palantine</td>\n",
       "      <td>ACTOR</td>\n",
       "      <td>Taxi Driver</td>\n",
       "      <td>MOVIE</td>\n",
       "      <td>1976</td>\n",
       "      <td>['drama', 'crime']</td>\n",
       "      <td>8.2</td>\n",
       "      <td>808582.0</td>\n",
       "    </tr>\n",
       "    <tr>\n",
       "      <th>7</th>\n",
       "      <td>Diahnne Abbott</td>\n",
       "      <td>Concession Girl</td>\n",
       "      <td>ACTOR</td>\n",
       "      <td>Taxi Driver</td>\n",
       "      <td>MOVIE</td>\n",
       "      <td>1976</td>\n",
       "      <td>['drama', 'crime']</td>\n",
       "      <td>8.2</td>\n",
       "      <td>808582.0</td>\n",
       "    </tr>\n",
       "    <tr>\n",
       "      <th>8</th>\n",
       "      <td>Gino Ardito</td>\n",
       "      <td>Policeman at Rally</td>\n",
       "      <td>ACTOR</td>\n",
       "      <td>Taxi Driver</td>\n",
       "      <td>MOVIE</td>\n",
       "      <td>1976</td>\n",
       "      <td>['drama', 'crime']</td>\n",
       "      <td>8.2</td>\n",
       "      <td>808582.0</td>\n",
       "    </tr>\n",
       "    <tr>\n",
       "      <th>9</th>\n",
       "      <td>Martin Scorsese</td>\n",
       "      <td>Passenger Watching Silhouette</td>\n",
       "      <td>ACTOR</td>\n",
       "      <td>Taxi Driver</td>\n",
       "      <td>MOVIE</td>\n",
       "      <td>1976</td>\n",
       "      <td>['drama', 'crime']</td>\n",
       "      <td>8.2</td>\n",
       "      <td>808582.0</td>\n",
       "    </tr>\n",
       "  </tbody>\n",
       "</table>\n",
       "</div>"
      ],
      "text/plain": [
       "              name                      Character   r0le        TITLE   Type  \\\n",
       "0   Robert De Niro                  Travis Bickle  ACTOR  Taxi Driver  MOVIE   \n",
       "1     Jodie Foster                  Iris Steensma  ACTOR  Taxi Driver  MOVIE   \n",
       "2    Albert Brooks                            Tom  ACTOR  Taxi Driver  MOVIE   \n",
       "3    Harvey Keitel        Matthew 'Sport' Higgins  ACTOR  Taxi Driver  MOVIE   \n",
       "4  Cybill Shepherd                          Betsy  ACTOR  Taxi Driver  MOVIE   \n",
       "5      Peter Boyle                         Wizard  ACTOR  Taxi Driver  MOVIE   \n",
       "6   Leonard Harris      Senator Charles Palantine  ACTOR  Taxi Driver  MOVIE   \n",
       "7   Diahnne Abbott                Concession Girl  ACTOR  Taxi Driver  MOVIE   \n",
       "8      Gino Ardito             Policeman at Rally  ACTOR  Taxi Driver  MOVIE   \n",
       "9  Martin Scorsese  Passenger Watching Silhouette  ACTOR  Taxi Driver  MOVIE   \n",
       "\n",
       "   release Year              genres  imdb sc0re  imdb v0tes  \n",
       "0          1976  ['drama', 'crime']         8.2    808582.0  \n",
       "1          1976  ['drama', 'crime']         8.2    808582.0  \n",
       "2          1976  ['drama', 'crime']         8.2    808582.0  \n",
       "3          1976  ['drama', 'crime']         8.2    808582.0  \n",
       "4          1976  ['drama', 'crime']         8.2    808582.0  \n",
       "5          1976  ['drama', 'crime']         8.2    808582.0  \n",
       "6          1976  ['drama', 'crime']         8.2    808582.0  \n",
       "7          1976  ['drama', 'crime']         8.2    808582.0  \n",
       "8          1976  ['drama', 'crime']         8.2    808582.0  \n",
       "9          1976  ['drama', 'crime']         8.2    808582.0  "
      ]
     },
     "execution_count": 129,
     "metadata": {},
     "output_type": "execute_result"
    }
   ],
   "source": [
    "df.head(10) # obtaining the first 10 rows from the df table\n",
    "# hint: you can use head() and tail() in Jupyter Notebook without wrapping them into print()\n"
   ]
  },
  {
   "cell_type": "markdown",
   "id": "e579aa91",
   "metadata": {},
   "source": [
    "Obtain the general information about the table with one command:"
   ]
  },
  {
   "cell_type": "code",
   "execution_count": 130,
   "id": "7bf66d2a",
   "metadata": {
    "trusted": false
   },
   "outputs": [
    {
     "name": "stdout",
     "output_type": "stream",
     "text": [
      "<class 'pandas.core.frame.DataFrame'>\n",
      "RangeIndex: 85579 entries, 0 to 85578\n",
      "Data columns (total 9 columns):\n",
      " #   Column        Non-Null Count  Dtype  \n",
      "---  ------        --------------  -----  \n",
      " 0      name       85579 non-null  object \n",
      " 1   Character     85579 non-null  object \n",
      " 2   r0le          85579 non-null  object \n",
      " 3   TITLE         85578 non-null  object \n",
      " 4     Type        85579 non-null  object \n",
      " 5   release Year  85579 non-null  int64  \n",
      " 6   genres        85579 non-null  object \n",
      " 7   imdb sc0re    80970 non-null  float64\n",
      " 8   imdb v0tes    80853 non-null  float64\n",
      "dtypes: float64(2), int64(1), object(6)\n",
      "memory usage: 5.9+ MB\n"
     ]
    }
   ],
   "source": [
    "df.info() # obtaining general information about the data in df"
   ]
  },
  {
   "cell_type": "markdown",
   "id": "64d805d4",
   "metadata": {},
   "source": [
    "<div class=\"alert alert-success\"; style=\"border-left: 7px solid green\">\n",
    "<b>✅ Reviewer's comment, v. 1</b> \n",
    "    \n",
    "Great - you've used a comprehensive set of methods to have a first look at the data.\n",
    "    "
   ]
  },
  {
   "cell_type": "markdown",
   "id": "e91f62a7",
   "metadata": {},
   "source": [
    "The table contains nine columns. The majority store the same data type: object. The only exceptions are `'release Year'` (int64 type), `'imdb sc0re'` (float64 type) and `'imdb v0tes'` (float64 type). Scores and votes will be used in our analysis, so it's important to verify that they are present in the dataframe in the appropriate numeric format. Three columns (`'TITLE'`, `'imdb sc0re'` and `'imdb v0tes'`) have missing values.\n",
    "\n",
    "According to the documentation:\n",
    "- `'name'` — actor/director's name and last name\n",
    "- `'Character'` — character played (for actors)\n",
    "- `'r0le '` — the person's contribution to the title (it can be in the capacity of either actor or director)\n",
    "- `'TITLE '` — title of the movie (show)\n",
    "- `'  Type'` — show or movie\n",
    "- `'release Year'` — year when movie (show) was released\n",
    "- `'genres'` — list of genres under which the movie (show) falls\n",
    "- `'imdb sc0re'` — score on IMDb\n",
    "- `'imdb v0tes'` — votes on IMDb\n",
    "\n",
    "We can see three issues with the column names:\n",
    "1. Some names are uppercase, while others are lowercase.\n",
    "2. There are names containing whitespace.\n",
    "3. A few column names have digit '0' instead of letter 'o'. \n"
   ]
  },
  {
   "cell_type": "markdown",
   "id": "4355de7b",
   "metadata": {},
   "source": [
    "### Conclusions <a id='data_review_conclusions'></a> \n",
    "\n",
    "Each row in the table stores data about a movie or show. The columns can be divided into two categories: the first is about the roles held by different people who worked on the movie or show (role, name of the actor or director, and character if the row is about an actor); the second category is information about the movie or show itself (title, release year, genre, imdb figures).\n",
    "\n",
    "It's clear that there is sufficient data to do the analysis and evaluate our assumption. However, to move forward, we need to preprocess the data."
   ]
  },
  {
   "cell_type": "markdown",
   "id": "e905fecd",
   "metadata": {},
   "source": [
    "<div class=\"alert alert-success\"; style=\"border-left: 7px solid green\">\n",
    "<b>✅ Reviewer's comment, v. 1</b> \n",
    "    \n",
    "Please note that it is highly recommended to add a conclusion / summary after each section and describe briefly your observations and / or major outcomes of the analysis."
   ]
  },
  {
   "cell_type": "markdown",
   "id": "c5dc9111",
   "metadata": {},
   "source": [
    "## Stage 2. Data preprocessing <a id='data_preprocessing'></a>\n",
    "Correct the formatting in the column headers and deal with the missing values. Then, check whether there are duplicates in the data."
   ]
  },
  {
   "cell_type": "code",
   "execution_count": 131,
   "id": "9c850d13",
   "metadata": {
    "trusted": false
   },
   "outputs": [
    {
     "data": {
      "text/plain": [
       "Index(['   name', 'Character', 'r0le', 'TITLE', '  Type', 'release Year',\n",
       "       'genres', 'imdb sc0re', 'imdb v0tes'],\n",
       "      dtype='object')"
      ]
     },
     "execution_count": 131,
     "metadata": {},
     "output_type": "execute_result"
    }
   ],
   "source": [
    "# the list of column names in the df table\n",
    "df.columns"
   ]
  },
  {
   "cell_type": "markdown",
   "id": "5f966df9",
   "metadata": {},
   "source": [
    "Change the column names according to the rules of good style:\n",
    "* If the name has several words, use snake_case\n",
    "* All characters must be lowercase\n",
    "* Remove whitespace\n",
    "* Replace zero with letter 'o'"
   ]
  },
  {
   "cell_type": "code",
   "execution_count": 132,
   "id": "23a1dc11",
   "metadata": {
    "trusted": false
   },
   "outputs": [],
   "source": [
    "# renaming columns\n",
    "df = df.rename(columns = \n",
    "               {'   name':'name', 'Character':'character', 'r0le':'role', 'TITLE':'title', '  Type': 'type', \n",
    "                'release Year':'release_year','genres':'genres', 'imdb sc0re':'imdb_score', 'imdb v0tes':'imdb_votes'} )"
   ]
  },
  {
   "cell_type": "markdown",
   "id": "973f9fda",
   "metadata": {},
   "source": [
    "<div class=\"alert alert-success\"; style=\"border-left: 7px solid green\">\n",
    "<b>✅ Reviewer's comment, v. 1</b> \n",
    "    \n",
    "This is a good way to rename the columns."
   ]
  },
  {
   "cell_type": "markdown",
   "id": "464fbd04",
   "metadata": {},
   "source": [
    "Check the result. Print the names of the columns once more:"
   ]
  },
  {
   "cell_type": "code",
   "execution_count": 133,
   "id": "0eb6527f",
   "metadata": {
    "trusted": false
   },
   "outputs": [
    {
     "data": {
      "text/plain": [
       "Index(['name', 'character', 'role', 'title', 'type', 'release_year', 'genres',\n",
       "       'imdb_score', 'imdb_votes'],\n",
       "      dtype='object')"
      ]
     },
     "execution_count": 133,
     "metadata": {},
     "output_type": "execute_result"
    }
   ],
   "source": [
    "# checking result: the list of column names\n",
    "df.columns"
   ]
  },
  {
   "cell_type": "markdown",
   "id": "14d9c319",
   "metadata": {},
   "source": [
    "### Missing values <a id='missing_values'></a>\n",
    "First, find the number of missing values in the table. To do so, combine two `pandas` methods:"
   ]
  },
  {
   "cell_type": "code",
   "execution_count": 134,
   "id": "21c427f2",
   "metadata": {
    "trusted": false
   },
   "outputs": [
    {
     "data": {
      "text/plain": [
       "name               0\n",
       "character          0\n",
       "role               0\n",
       "title              1\n",
       "type               0\n",
       "release_year       0\n",
       "genres             0\n",
       "imdb_score      4609\n",
       "imdb_votes      4726\n",
       "dtype: int64"
      ]
     },
     "execution_count": 134,
     "metadata": {},
     "output_type": "execute_result"
    }
   ],
   "source": [
    "# calculating missing values\n",
    "df.isna().sum()"
   ]
  },
  {
   "cell_type": "markdown",
   "id": "6f6afca4",
   "metadata": {},
   "source": [
    "<div class=\"alert alert-success\"; style=\"border-left: 7px solid green\">\n",
    "<b>✅ Reviewer's comment, v. 1</b> \n",
    "    \n",
    "The isna() method is selected to find the missing values, it's great!"
   ]
  },
  {
   "cell_type": "markdown",
   "id": "c8272df3",
   "metadata": {},
   "source": [
    "We identified missing values in several columns. While the missing value in `'title'` isn't critical, missing values in `'imdb_score'` and `'imdb_votes'` affect around 6% of the data, which could impact our analysis. To ensure data integrity, we'll drop all rows with missing values."
   ]
  },
  {
   "cell_type": "code",
   "execution_count": 135,
   "id": "599d5550",
   "metadata": {
    "trusted": false
   },
   "outputs": [],
   "source": [
    "# dropping rows where columns with scores, and votes have missing values\n",
    "df = df.dropna(axis = 'rows')"
   ]
  },
  {
   "cell_type": "markdown",
   "id": "2156887f",
   "metadata": {},
   "source": [
    "Make sure the table doesn't contain any more missing values. Count the missing values again."
   ]
  },
  {
   "cell_type": "code",
   "execution_count": 136,
   "id": "55c0b0ce",
   "metadata": {
    "trusted": false
   },
   "outputs": [
    {
     "data": {
      "text/plain": [
       "name            0\n",
       "character       0\n",
       "role            0\n",
       "title           0\n",
       "type            0\n",
       "release_year    0\n",
       "genres          0\n",
       "imdb_score      0\n",
       "imdb_votes      0\n",
       "dtype: int64"
      ]
     },
     "execution_count": 136,
     "metadata": {},
     "output_type": "execute_result"
    }
   ],
   "source": [
    "# counting missing values\n",
    "df.isna().sum()"
   ]
  },
  {
   "cell_type": "markdown",
   "id": "38a1e3e6",
   "metadata": {},
   "source": [
    "<div class=\"alert alert-success\"; style=\"border-left: 7px solid green\">\n",
    "<b>✅ Reviewer's comment, v. 1</b> \n",
    "    \n",
    "Perfect!"
   ]
  },
  {
   "cell_type": "markdown",
   "id": "a7dc7aa0",
   "metadata": {},
   "source": [
    "### Duplicates <a id='duplicates'></a>\n",
    "Find the number of duplicate rows in the table using one command:"
   ]
  },
  {
   "cell_type": "code",
   "execution_count": 137,
   "id": "9227df01",
   "metadata": {
    "trusted": false
   },
   "outputs": [
    {
     "data": {
      "text/plain": [
       "6994"
      ]
     },
     "execution_count": 137,
     "metadata": {},
     "output_type": "execute_result"
    }
   ],
   "source": [
    "# counting duplicate rows\n",
    "df.duplicated().sum()"
   ]
  },
  {
   "cell_type": "markdown",
   "id": "5f6eb0fc",
   "metadata": {},
   "source": [
    "Review the duplicate rows to determine if removing them would distort our dataset."
   ]
  },
  {
   "cell_type": "code",
   "execution_count": 138,
   "id": "bcf32fcb",
   "metadata": {
    "trusted": false
   },
   "outputs": [
    {
     "data": {
      "text/html": [
       "<div>\n",
       "<style scoped>\n",
       "    .dataframe tbody tr th:only-of-type {\n",
       "        vertical-align: middle;\n",
       "    }\n",
       "\n",
       "    .dataframe tbody tr th {\n",
       "        vertical-align: top;\n",
       "    }\n",
       "\n",
       "    .dataframe thead th {\n",
       "        text-align: right;\n",
       "    }\n",
       "</style>\n",
       "<table border=\"1\" class=\"dataframe\">\n",
       "  <thead>\n",
       "    <tr style=\"text-align: right;\">\n",
       "      <th></th>\n",
       "      <th>name</th>\n",
       "      <th>character</th>\n",
       "      <th>role</th>\n",
       "      <th>title</th>\n",
       "      <th>type</th>\n",
       "      <th>release_year</th>\n",
       "      <th>genres</th>\n",
       "      <th>imdb_score</th>\n",
       "      <th>imdb_votes</th>\n",
       "    </tr>\n",
       "  </thead>\n",
       "  <tbody>\n",
       "    <tr>\n",
       "      <th>85569</th>\n",
       "      <td>Jessica Cediel</td>\n",
       "      <td>Liliana Navarro</td>\n",
       "      <td>ACTOR</td>\n",
       "      <td>Lokillo</td>\n",
       "      <td>MOVIE</td>\n",
       "      <td>2021</td>\n",
       "      <td>['comedy']</td>\n",
       "      <td>3.8</td>\n",
       "      <td>68.0</td>\n",
       "    </tr>\n",
       "    <tr>\n",
       "      <th>85570</th>\n",
       "      <td>Javier Gardeaz?­bal</td>\n",
       "      <td>Agust??n \"Peluca\" Ort??z</td>\n",
       "      <td>ACTOR</td>\n",
       "      <td>Lokillo</td>\n",
       "      <td>MOVIE</td>\n",
       "      <td>2021</td>\n",
       "      <td>['comedy']</td>\n",
       "      <td>3.8</td>\n",
       "      <td>68.0</td>\n",
       "    </tr>\n",
       "    <tr>\n",
       "      <th>85571</th>\n",
       "      <td>Carla Giraldo</td>\n",
       "      <td>Valery Reinoso</td>\n",
       "      <td>ACTOR</td>\n",
       "      <td>Lokillo</td>\n",
       "      <td>MOVIE</td>\n",
       "      <td>2021</td>\n",
       "      <td>['comedy']</td>\n",
       "      <td>3.8</td>\n",
       "      <td>68.0</td>\n",
       "    </tr>\n",
       "    <tr>\n",
       "      <th>85572</th>\n",
       "      <td>Ana Mar??a S?­nchez</td>\n",
       "      <td>Lourdes</td>\n",
       "      <td>ACTOR</td>\n",
       "      <td>Lokillo</td>\n",
       "      <td>MOVIE</td>\n",
       "      <td>2021</td>\n",
       "      <td>['comedy']</td>\n",
       "      <td>3.8</td>\n",
       "      <td>68.0</td>\n",
       "    </tr>\n",
       "    <tr>\n",
       "      <th>85577</th>\n",
       "      <td>Isabel Gaona</td>\n",
       "      <td>Cacica</td>\n",
       "      <td>ACTOR</td>\n",
       "      <td>Lokillo</td>\n",
       "      <td>MOVIE</td>\n",
       "      <td>2021</td>\n",
       "      <td>['comedy']</td>\n",
       "      <td>3.8</td>\n",
       "      <td>68.0</td>\n",
       "    </tr>\n",
       "  </tbody>\n",
       "</table>\n",
       "</div>"
      ],
      "text/plain": [
       "                      name                 character   role    title   type  \\\n",
       "85569       Jessica Cediel           Liliana Navarro  ACTOR  Lokillo  MOVIE   \n",
       "85570  Javier Gardeaz?­bal  Agust??n \"Peluca\" Ort??z  ACTOR  Lokillo  MOVIE   \n",
       "85571        Carla Giraldo            Valery Reinoso  ACTOR  Lokillo  MOVIE   \n",
       "85572  Ana Mar??a S?­nchez                   Lourdes  ACTOR  Lokillo  MOVIE   \n",
       "85577         Isabel Gaona                    Cacica  ACTOR  Lokillo  MOVIE   \n",
       "\n",
       "       release_year      genres  imdb_score  imdb_votes  \n",
       "85569          2021  ['comedy']         3.8        68.0  \n",
       "85570          2021  ['comedy']         3.8        68.0  \n",
       "85571          2021  ['comedy']         3.8        68.0  \n",
       "85572          2021  ['comedy']         3.8        68.0  \n",
       "85577          2021  ['comedy']         3.8        68.0  "
      ]
     },
     "execution_count": 138,
     "metadata": {},
     "output_type": "execute_result"
    }
   ],
   "source": [
    "# Produce table with duplicates (with original rows included) and review last 5 rows\n",
    "df_duplicates = df[df.duplicated()]\n",
    "df_duplicates.tail(5)"
   ]
  },
  {
   "cell_type": "markdown",
   "id": "a1ed6640",
   "metadata": {},
   "source": [
    "There are two clear duplicates in the printed rows. We can safely remove them.\n",
    "Call the `pandas` method for getting rid of duplicate rows:"
   ]
  },
  {
   "cell_type": "code",
   "execution_count": 139,
   "id": "724d5bc8",
   "metadata": {
    "trusted": false
   },
   "outputs": [
    {
     "name": "stdout",
     "output_type": "stream",
     "text": [
      "<class 'pandas.core.frame.DataFrame'>\n",
      "Int64Index: 73859 entries, 0 to 85578\n",
      "Data columns (total 9 columns):\n",
      " #   Column        Non-Null Count  Dtype  \n",
      "---  ------        --------------  -----  \n",
      " 0   name          73859 non-null  object \n",
      " 1   character     73859 non-null  object \n",
      " 2   role          73859 non-null  object \n",
      " 3   title         73859 non-null  object \n",
      " 4   type          73859 non-null  object \n",
      " 5   release_year  73859 non-null  int64  \n",
      " 6   genres        73859 non-null  object \n",
      " 7   imdb_score    73859 non-null  float64\n",
      " 8   imdb_votes    73859 non-null  float64\n",
      "dtypes: float64(2), int64(1), object(6)\n",
      "memory usage: 5.6+ MB\n"
     ]
    }
   ],
   "source": [
    "# removing duplicate rows\n",
    "df = df.drop_duplicates()\n",
    "df.info()"
   ]
  },
  {
   "cell_type": "markdown",
   "id": "fc8c77ba",
   "metadata": {},
   "source": [
    "Check for duplicate rows once more to make sure you have removed all of them:"
   ]
  },
  {
   "cell_type": "code",
   "execution_count": 140,
   "id": "8091a9bc",
   "metadata": {
    "trusted": false
   },
   "outputs": [
    {
     "name": "stdout",
     "output_type": "stream",
     "text": [
      "<class 'pandas.core.frame.DataFrame'>\n",
      "Int64Index: 0 entries\n",
      "Data columns (total 9 columns):\n",
      " #   Column        Non-Null Count  Dtype  \n",
      "---  ------        --------------  -----  \n",
      " 0   name          0 non-null      object \n",
      " 1   character     0 non-null      object \n",
      " 2   role          0 non-null      object \n",
      " 3   title         0 non-null      object \n",
      " 4   type          0 non-null      object \n",
      " 5   release_year  0 non-null      int64  \n",
      " 6   genres        0 non-null      object \n",
      " 7   imdb_score    0 non-null      float64\n",
      " 8   imdb_votes    0 non-null      float64\n",
      "dtypes: float64(2), int64(1), object(6)\n",
      "memory usage: 0.0+ bytes\n"
     ]
    }
   ],
   "source": [
    "# checking for duplicates\n",
    "df_duplicates = df[df.duplicated()]\n",
    "df_duplicates.info()"
   ]
  },
  {
   "cell_type": "markdown",
   "id": "05829c6a",
   "metadata": {},
   "source": [
    "<div class=\"alert alert-success\"; style=\"border-left: 7px solid green\">\n",
    "<b>✅ Reviewer's comment, v. 1</b> \n",
    "    \n",
    "Great, you found and removed the duplicates. And did very thorough checks to make sure the duplicates are gone."
   ]
  },
  {
   "cell_type": "markdown",
   "id": "1d802b07",
   "metadata": {},
   "source": [
    "Now get rid of implicit duplicates in the `'type'` column. For example, the string `'SHOW'` can be written in different ways. These kinds of errors will also affect the result."
   ]
  },
  {
   "cell_type": "markdown",
   "id": "d5f987ed",
   "metadata": {},
   "source": [
    "Print a list of unique `'type'` names, sorted in alphabetical order. To do so:\n",
    "* Retrieve the intended dataframe column \n",
    "* Apply a sorting method to it\n",
    "* For the sorted column, call the method that will return all unique column values"
   ]
  },
  {
   "cell_type": "code",
   "execution_count": 141,
   "id": "3d7b0ac5",
   "metadata": {
    "trusted": false
   },
   "outputs": [
    {
     "data": {
      "text/plain": [
       "['MOVIE',\n",
       " 'SHOW',\n",
       " 'movies',\n",
       " 'shows',\n",
       " 'the movie',\n",
       " 'tv',\n",
       " 'tv series',\n",
       " 'tv show',\n",
       " 'tv shows']"
      ]
     },
     "execution_count": 141,
     "metadata": {},
     "output_type": "execute_result"
    }
   ],
   "source": [
    "# viewing unique type names\n",
    "sorted(df['type'].unique())"
   ]
  },
  {
   "cell_type": "markdown",
   "id": "b9b539a3",
   "metadata": {},
   "source": [
    "<div class=\"alert alert-success\"; style=\"border-left: 7px solid green\">\n",
    "<b>✅ Reviewer's comment, v. 1</b> \n",
    "    \n",
    "This is good. "
   ]
  },
  {
   "cell_type": "markdown",
   "id": "ac6e8b18",
   "metadata": {},
   "source": [
    "Look through the list to find implicit duplicates of `'show'` (`'movie'` duplicates will be ignored since the assumption is about shows). These could be names written incorrectly or alternative names of the same genre.\n",
    "\n",
    "You will see the following implicit duplicates:\n",
    "* `'shows'`\n",
    "* `'SHOW'`\n",
    "* `'tv show'`\n",
    "* `'tv shows'`\n",
    "* `'tv series'`\n",
    "* `'tv'`\n",
    "\n",
    "To get rid of them, declare the function `replace_wrong_show()` with two parameters: \n",
    "* `wrong_shows_list=` — the list of duplicates\n",
    "* `correct_show=` — the string with the correct value\n",
    "\n",
    "The function should correct the names in the `'type'` column from the `df` table (i.e., replace each value from the `wrong_shows_list` list with the value in `correct_show`)."
   ]
  },
  {
   "cell_type": "code",
   "execution_count": 142,
   "id": "bff944f9",
   "metadata": {
    "trusted": false
   },
   "outputs": [],
   "source": [
    "# function for replacing implicit duplicates\n",
    "def replace_wrong_show(df, wrong_shows_list, correct_show):\n",
    "    df['type'] = df['type'].replace(wrong_shows_list, correct_show)\n",
    "    return df"
   ]
  },
  {
   "cell_type": "markdown",
   "id": "f962b226",
   "metadata": {},
   "source": [
    "<div class=\"alert alert-danger\"; style=\"border-left: 7px solid red\">\n",
    "<b>⛔️ Reviewer's comment, v. 1</b> \n",
    "    \n",
    "Not quite right. Please note that we should replace only **implicit duplicates** in the 'type' column, but not all the values"
   ]
  },
  {
   "cell_type": "markdown",
   "id": "f2fbc589",
   "metadata": {},
   "source": [
    "<b>Student's comment</b>\n",
    "<div class=\"alert alert-info\"; style=\"border-left: 7px solid blue\">\n",
    "<b>Question:</b> Is there anything wrong with the function as it is defined above? I am assuming that your comment is referring only to the succeeding cell and not the preceding cell. Please correct me if I am wrong. Thank you!"
   ]
  },
  {
   "cell_type": "markdown",
   "id": "520f37cb",
   "metadata": {},
   "source": [
    "<div class=\"alert alert-success\"; style=\"border-left: 7px solid green\">\n",
    "<b>✅ Reviewer's comment, v. 2</b> \n",
    "    \n",
    "This comment is about the code cell below, now it looks correctly"
   ]
  },
  {
   "cell_type": "markdown",
   "id": "d02d13a6",
   "metadata": {},
   "source": [
    "Call `replace_wrong_show()` and pass it arguments so that it clears implicit duplicates and replaces them with `SHOW`:"
   ]
  },
  {
   "cell_type": "code",
   "execution_count": 143,
   "id": "a2217e53",
   "metadata": {
    "trusted": false
   },
   "outputs": [
    {
     "name": "stdout",
     "output_type": "stream",
     "text": [
      "                     name                character      role        title  \\\n",
      "0          Robert De Niro            Travis Bickle     ACTOR  Taxi Driver   \n",
      "1            Jodie Foster            Iris Steensma     ACTOR  Taxi Driver   \n",
      "2           Albert Brooks                      Tom     ACTOR  Taxi Driver   \n",
      "3           Harvey Keitel  Matthew 'Sport' Higgins     ACTOR  Taxi Driver   \n",
      "4         Cybill Shepherd                    Betsy     ACTOR  Taxi Driver   \n",
      "...                   ...                      ...       ...          ...   \n",
      "85573       A??da Morales                  Maritza     ACTOR      Lokillo   \n",
      "85574    Adelaida Buscato               Mar??a Paz     ACTOR      Lokillo   \n",
      "85575  Luz Stella Luengas             Karen Bayona     ACTOR      Lokillo   \n",
      "85576        In??s Prieto                    Fanny     ACTOR      Lokillo   \n",
      "85578      Julian Gaviria                  unknown  DIRECTOR      Lokillo   \n",
      "\n",
      "            type  release_year              genres  imdb_score  imdb_votes  \n",
      "0          MOVIE          1976  ['drama', 'crime']         8.2    808582.0  \n",
      "1          MOVIE          1976  ['drama', 'crime']         8.2    808582.0  \n",
      "2          MOVIE          1976  ['drama', 'crime']         8.2    808582.0  \n",
      "3          MOVIE          1976  ['drama', 'crime']         8.2    808582.0  \n",
      "4          MOVIE          1976  ['drama', 'crime']         8.2    808582.0  \n",
      "...          ...           ...                 ...         ...         ...  \n",
      "85573  the movie          2021          ['comedy']         3.8        68.0  \n",
      "85574  the movie          2021          ['comedy']         3.8        68.0  \n",
      "85575  the movie          2021          ['comedy']         3.8        68.0  \n",
      "85576  the movie          2021          ['comedy']         3.8        68.0  \n",
      "85578  the movie          2021          ['comedy']         3.8        68.0  \n",
      "\n",
      "[73859 rows x 9 columns]\n"
     ]
    }
   ],
   "source": [
    "# removing implicit duplicates\n",
    "wrong_shows_list = ['shows', 'SHOW', 'tv show','tv shows','tv series','tv']\n",
    "correct_show = 'SHOW'\n",
    "df = replace_wrong_show(df, wrong_shows_list, correct_show)\n",
    "print(df)"
   ]
  },
  {
   "cell_type": "markdown",
   "id": "2b77ab60",
   "metadata": {},
   "source": [
    "<b>Student's comment</b>\n",
    "<div class=\"alert alert-info\"; style=\"border-left: 7px solid blue\">\n",
    "\n",
    "Okay, I understand now. For removing implicit duplicates, my original code was: \n",
    "    **wrong_shows_list =sorted(df['type'].unique())** \n",
    "And obviously that is outputting all the unique types; however, not all types are implicit duplicates for 'show'.\n",
    "So I replaced that line of code with: **wrong_shows_list = ['shows', 'SHOW', 'tv show','tv shows','tv series','tv']**\n",
    "  "
   ]
  },
  {
   "cell_type": "markdown",
   "id": "6d90e253",
   "metadata": {},
   "source": [
    "<div class=\"alert alert-success\"; style=\"border-left: 7px solid green\">\n",
    "<b>✅ Reviewer's comment, v. 2</b> \n",
    "    \n",
    "Yep, it's prefect!"
   ]
  },
  {
   "cell_type": "markdown",
   "id": "318b09f7",
   "metadata": {},
   "source": [
    "Make sure the duplicate names are removed. Print the list of unique values from the `'type'` column:"
   ]
  },
  {
   "cell_type": "code",
   "execution_count": 144,
   "id": "25d49d73",
   "metadata": {
    "trusted": false
   },
   "outputs": [
    {
     "name": "stdout",
     "output_type": "stream",
     "text": [
      "['MOVIE' 'the movie' 'SHOW' 'movies']\n"
     ]
    }
   ],
   "source": [
    "# viewing unique genre names\n",
    "print(df['type'].unique())"
   ]
  },
  {
   "cell_type": "markdown",
   "id": "18b2049e",
   "metadata": {},
   "source": [
    "### Conclusions <a id='data_preprocessing_conclusions'></a>\n",
    "We detected three issues with the data:\n",
    "\n",
    "- Incorrect header styles\n",
    "- Missing values\n",
    "- Duplicate rows and implicit duplicates\n",
    "\n",
    "The headers have been cleaned up to make processing the table simpler.\n",
    "\n",
    "All rows with missing values have been removed. \n",
    "\n",
    "The absence of duplicates will make the results more precise and easier to understand.\n",
    "\n",
    "Now we can move on to our analysis of the prepared data."
   ]
  },
  {
   "cell_type": "markdown",
   "id": "1aa0f1b1",
   "metadata": {},
   "source": [
    "## Stage 3. Data analysis <a id='hypotheses'></a>"
   ]
  },
  {
   "cell_type": "markdown",
   "id": "f8fb6a0e",
   "metadata": {},
   "source": [
    "Based on the previous project stages, you can now define how the assumption will be checked. Calculate the average amount of votes for each score (this data is available in the `imdb_score` and `imdb_votes` columns), and then check how these averages relate to each other. If the averages for shows with the highest scores are bigger than those for shows with lower scores, the assumption appears to be true.\n",
    "\n",
    "Based on this, complete the following steps:\n",
    "\n",
    "- Filter the dataframe to only include shows released in 1999 or later.\n",
    "- Group scores into buckets by rounding the values of the appropriate column (a set of 1-10 integers will help us make the outcome of our calculations more evident without damaging the quality of our research).\n",
    "- Identify outliers among scores based on their number of votes, and exclude scores with few votes.\n",
    "- Calculate the average votes for each score and check whether the assumption matches the results."
   ]
  },
  {
   "cell_type": "markdown",
   "id": "0ea2cb51",
   "metadata": {},
   "source": [
    "To filter the dataframe and only include shows released in 1999 or later, you will take two steps. First, keep only titles published in 1999 or later in our dataframe. Then, filter the table to only contain shows (movies will be removed)."
   ]
  },
  {
   "cell_type": "markdown",
   "id": "31a80f2d",
   "metadata": {},
   "source": [
    "<div class=\"alert alert-danger\"; style=\"border-left: 7px solid red\">\n",
    "<b>⛔️ Reviewer's comment, v. 1</b> \n",
    "    \n",
    "This part of the work has not been completed. I will be waiting for the new version of the project, in which the remaining tasks will be completed."
   ]
  },
  {
   "cell_type": "markdown",
   "id": "2a8d1d52",
   "metadata": {},
   "source": [
    "<b>Student's comment</b>\n",
    "<div class=\"alert alert-info\"; style=\"border-left: 7px solid blue\">\n",
    "\n",
    "HELLO! I am so sorry about this, I am still confused as to what happened because all of this was completed prior to submission.\n",
    "I did \"Save As\" before I submitted but I don't see how that would remove all my lines of code, LOL.\n",
    "Anyway, luckily I had a saved file with my codes so I didn't have to redo everything. phew!"
   ]
  },
  {
   "cell_type": "markdown",
   "id": "d5128305",
   "metadata": {},
   "source": [
    "<div class=\"alert alert-success\"; style=\"border-left: 7px solid green\">\n",
    "<b>✅ Reviewer's comment, v. 2</b> \n",
    "    \n",
    "It's a pity that you came to face this, and it's a good thing that you had a local copy to quickly restore the code."
   ]
  },
  {
   "cell_type": "code",
   "execution_count": 145,
   "id": "a87807bb",
   "metadata": {
    "trusted": false
   },
   "outputs": [],
   "source": [
    "# using conditional indexing modify df so it has only titles released after 1999 (with 1999 included)\n",
    "# give the slice of dataframe new name\n",
    "df_new = df[df['release_year'] > 1998]"
   ]
  },
  {
   "cell_type": "code",
   "execution_count": 146,
   "id": "128dc6a9",
   "metadata": {
    "scrolled": true,
    "trusted": false
   },
   "outputs": [],
   "source": [
    "# repeat conditional indexing so df has only shows (movies are removed as result)\n",
    "df_new = df_new[df_new['type'] == 'SHOW']"
   ]
  },
  {
   "cell_type": "markdown",
   "id": "9648040c",
   "metadata": {},
   "source": [
    "The scores that are to be grouped should be rounded. For instance, titles with scores like 7.8, 8.1, and 8.3 will all be placed in the same bucket with a score of 8."
   ]
  },
  {
   "cell_type": "code",
   "execution_count": 147,
   "id": "54bbd5c0",
   "metadata": {
    "trusted": false
   },
   "outputs": [
    {
     "data": {
      "text/html": [
       "<div>\n",
       "<style scoped>\n",
       "    .dataframe tbody tr th:only-of-type {\n",
       "        vertical-align: middle;\n",
       "    }\n",
       "\n",
       "    .dataframe tbody tr th {\n",
       "        vertical-align: top;\n",
       "    }\n",
       "\n",
       "    .dataframe thead th {\n",
       "        text-align: right;\n",
       "    }\n",
       "</style>\n",
       "<table border=\"1\" class=\"dataframe\">\n",
       "  <thead>\n",
       "    <tr style=\"text-align: right;\">\n",
       "      <th></th>\n",
       "      <th>name</th>\n",
       "      <th>character</th>\n",
       "      <th>role</th>\n",
       "      <th>title</th>\n",
       "      <th>type</th>\n",
       "      <th>release_year</th>\n",
       "      <th>genres</th>\n",
       "      <th>imdb_score</th>\n",
       "      <th>imdb_votes</th>\n",
       "    </tr>\n",
       "  </thead>\n",
       "  <tbody>\n",
       "    <tr>\n",
       "      <th>85433</th>\n",
       "      <td>Maneerat Kam-Uan</td>\n",
       "      <td>Ae</td>\n",
       "      <td>ACTOR</td>\n",
       "      <td>Let's Eat</td>\n",
       "      <td>SHOW</td>\n",
       "      <td>2021</td>\n",
       "      <td>['drama', 'comedy']</td>\n",
       "      <td>8</td>\n",
       "      <td>5.0</td>\n",
       "    </tr>\n",
       "    <tr>\n",
       "      <th>85434</th>\n",
       "      <td>Rudklao Amratisha</td>\n",
       "      <td>unknown</td>\n",
       "      <td>ACTOR</td>\n",
       "      <td>Let's Eat</td>\n",
       "      <td>SHOW</td>\n",
       "      <td>2021</td>\n",
       "      <td>['drama', 'comedy']</td>\n",
       "      <td>8</td>\n",
       "      <td>5.0</td>\n",
       "    </tr>\n",
       "    <tr>\n",
       "      <th>85435</th>\n",
       "      <td>Jaturong Mokjok</td>\n",
       "      <td>unknown</td>\n",
       "      <td>ACTOR</td>\n",
       "      <td>Let's Eat</td>\n",
       "      <td>SHOW</td>\n",
       "      <td>2021</td>\n",
       "      <td>['drama', 'comedy']</td>\n",
       "      <td>8</td>\n",
       "      <td>5.0</td>\n",
       "    </tr>\n",
       "    <tr>\n",
       "      <th>85436</th>\n",
       "      <td>Pisamai Wilaisak</td>\n",
       "      <td>unknown</td>\n",
       "      <td>ACTOR</td>\n",
       "      <td>Let's Eat</td>\n",
       "      <td>SHOW</td>\n",
       "      <td>2021</td>\n",
       "      <td>['drama', 'comedy']</td>\n",
       "      <td>8</td>\n",
       "      <td>5.0</td>\n",
       "    </tr>\n",
       "    <tr>\n",
       "      <th>85437</th>\n",
       "      <td>Sarawut Wichiensarn</td>\n",
       "      <td>unknown</td>\n",
       "      <td>DIRECTOR</td>\n",
       "      <td>Let's Eat</td>\n",
       "      <td>SHOW</td>\n",
       "      <td>2021</td>\n",
       "      <td>['drama', 'comedy']</td>\n",
       "      <td>8</td>\n",
       "      <td>5.0</td>\n",
       "    </tr>\n",
       "  </tbody>\n",
       "</table>\n",
       "</div>"
      ],
      "text/plain": [
       "                      name character      role      title  type  release_year  \\\n",
       "85433     Maneerat Kam-Uan        Ae     ACTOR  Let's Eat  SHOW          2021   \n",
       "85434    Rudklao Amratisha   unknown     ACTOR  Let's Eat  SHOW          2021   \n",
       "85435      Jaturong Mokjok   unknown     ACTOR  Let's Eat  SHOW          2021   \n",
       "85436     Pisamai Wilaisak   unknown     ACTOR  Let's Eat  SHOW          2021   \n",
       "85437  Sarawut Wichiensarn   unknown  DIRECTOR  Let's Eat  SHOW          2021   \n",
       "\n",
       "                    genres  imdb_score  imdb_votes  \n",
       "85433  ['drama', 'comedy']           8         5.0  \n",
       "85434  ['drama', 'comedy']           8         5.0  \n",
       "85435  ['drama', 'comedy']           8         5.0  \n",
       "85436  ['drama', 'comedy']           8         5.0  \n",
       "85437  ['drama', 'comedy']           8         5.0  "
      ]
     },
     "execution_count": 147,
     "metadata": {},
     "output_type": "execute_result"
    }
   ],
   "source": [
    "# rounding column with scores\n",
    "df_new['imdb_score'] = df_new['imdb_score'].round(0).astype(int)\n",
    "#checking the outcome with tail()\n",
    "df_new.tail()"
   ]
  },
  {
   "cell_type": "markdown",
   "id": "46c479f4",
   "metadata": {},
   "source": [
    "<div class=\"alert alert-success\"; style=\"border-left: 7px solid green\">\n",
    "<b>✅ Reviewer's comment, v. 2</b> \n",
    "    \n",
    "All the transformations were performed absolutely correctly"
   ]
  },
  {
   "cell_type": "markdown",
   "id": "36dbd00a",
   "metadata": {},
   "source": [
    "It is now time to identify outliers based on the number of votes."
   ]
  },
  {
   "cell_type": "code",
   "execution_count": 148,
   "id": "b8b55e95",
   "metadata": {
    "trusted": false
   },
   "outputs": [
    {
     "name": "stdout",
     "output_type": "stream",
     "text": [
      "imdb_score\n",
      "2       24\n",
      "3       27\n",
      "4      180\n",
      "5      592\n",
      "6     2494\n",
      "7     4706\n",
      "8     4842\n",
      "9      557\n",
      "10       8\n",
      "Name: imdb_votes, dtype: int64\n"
     ]
    }
   ],
   "source": [
    "# Use groupby() for scores and count all unique values in each group, print the result\n",
    "print(df_new.groupby('imdb_score')['imdb_votes'].count())"
   ]
  },
  {
   "cell_type": "markdown",
   "id": "543144c3",
   "metadata": {},
   "source": [
    "<div class=\"alert alert-success\"; style=\"border-left: 7px solid green\">\n",
    "<b>✅ Reviewer's comment, v. 2</b> \n",
    "    \n",
    "The dataframe was filtered and grouped flawlessly"
   ]
  },
  {
   "cell_type": "markdown",
   "id": "1ba6daae",
   "metadata": {},
   "source": [
    "Based on the aggregation performed, it is evident that scores 2 (24 voted shows), 3 (27 voted shows), and 10 (only 8 voted shows) are outliers. There isn't enough data for these scores for the average number of votes to be meaningful."
   ]
  },
  {
   "cell_type": "markdown",
   "id": "bd468c46",
   "metadata": {},
   "source": [
    "To obtain the mean numbers of votes for the selected scores (we identified a range of 4-9 as acceptable), use conditional filtering and grouping."
   ]
  },
  {
   "cell_type": "code",
   "execution_count": 149,
   "id": "d1867e0e",
   "metadata": {
    "trusted": false
   },
   "outputs": [
    {
     "name": "stdout",
     "output_type": "stream",
     "text": [
      "   imdb_score     imdb_votes\n",
      "0           4    5277.583333\n",
      "1           5    3143.942568\n",
      "2           6    3481.717322\n",
      "3           7    8727.068211\n",
      "4           8   30299.460967\n",
      "5           9  126904.109515\n"
     ]
    }
   ],
   "source": [
    "# filter dataframe using two conditions (scores to be in the range 4-9)\n",
    "df_new = df_new[(df_new['imdb_score'] > 3) & (df_new['imdb_score'] < 10)]\n",
    "# group scores and corresponding average number of votes, reset index and print the result\n",
    "df_new = df_new.groupby('imdb_score')['imdb_votes'].mean().reset_index()\n",
    "print(df_new)"
   ]
  },
  {
   "cell_type": "markdown",
   "id": "96a66d14",
   "metadata": {},
   "source": [
    "Now for the final step! Round the column with the averages, rename both columns, and print the dataframe in descending order."
   ]
  },
  {
   "cell_type": "code",
   "execution_count": 150,
   "id": "5999051b",
   "metadata": {
    "trusted": false
   },
   "outputs": [
    {
     "name": "stdout",
     "output_type": "stream",
     "text": [
      "   imdb_score_group  average_imdb_votes\n",
      "5                 9              126904\n",
      "4                 8               30299\n",
      "3                 7                8727\n",
      "0                 4                5278\n",
      "2                 6                3482\n",
      "1                 5                3144\n"
     ]
    }
   ],
   "source": [
    "# round column with averages\n",
    "df_new['imdb_votes'] = df_new['imdb_votes'].round().astype(int)\n",
    "# rename columns\n",
    "df_new = df_new.rename(columns = {'imdb_score':'imdb_score_group', 'imdb_votes': 'average_imdb_votes'})\n",
    "# print dataframe in descending order\n",
    "print(df_new.sort_values(by='average_imdb_votes', ascending = False))"
   ]
  },
  {
   "cell_type": "markdown",
   "id": "e862c75f",
   "metadata": {},
   "source": [
    "<div class=\"alert alert-success\"; style=\"border-left: 7px solid green\">\n",
    "<b>✅ Reviewer's comment, v. 2</b> \n",
    "    \n",
    "Great! Also correct rounding and grouping in this section"
   ]
  },
  {
   "cell_type": "markdown",
   "id": "af07386d",
   "metadata": {},
   "source": [
    "The assumption macthes the analysis: the shows with the top 3 scores have the most amounts of votes."
   ]
  },
  {
   "cell_type": "markdown",
   "id": "84e29a37",
   "metadata": {},
   "source": [
    "## Conclusion <a id='hypotheses'></a>"
   ]
  },
  {
   "cell_type": "markdown",
   "id": "984766a3",
   "metadata": {},
   "source": [
    "The research done confirms that highly-rated shows released during the \"Golden Age\" of television also have the most votes. While shows with score 4 have more votes than ones with scores 5 and 6, the top three (scores 7-9) have the largest number. The data studied represents around 94% of the original set, so we can be confident in our findings."
   ]
  },
  {
   "cell_type": "markdown",
   "id": "83d552e2",
   "metadata": {},
   "source": [
    "<div class=\"alert alert-success\"; style=\"border-left: 7px solid green\">\n",
    "<b>✅ Reviewer's comment, v. 2</b> \n",
    "    \n",
    "Overall conclusion is an important part, where we should include the summary of the outcomes of the project."
   ]
  }
 ],
 "metadata": {
  "ExecuteTimeLog": [
   {
    "duration": 284,
    "start_time": "2025-01-29T21:28:32.153Z"
   },
   {
    "duration": 528,
    "start_time": "2025-01-29T21:29:17.946Z"
   },
   {
    "duration": 151,
    "start_time": "2025-01-29T21:29:42.406Z"
   },
   {
    "duration": 14,
    "start_time": "2025-01-29T21:29:54.968Z"
   },
   {
    "duration": 23,
    "start_time": "2025-01-29T21:30:21.607Z"
   },
   {
    "duration": 8,
    "start_time": "2025-01-29T21:30:26.087Z"
   },
   {
    "duration": 22,
    "start_time": "2025-01-29T21:30:44.591Z"
   },
   {
    "duration": 171,
    "start_time": "2025-01-31T17:28:24.708Z"
   },
   {
    "duration": 323,
    "start_time": "2025-01-31T17:28:52.453Z"
   },
   {
    "duration": 138,
    "start_time": "2025-01-31T17:28:52.778Z"
   },
   {
    "duration": 15,
    "start_time": "2025-01-31T17:28:52.918Z"
   },
   {
    "duration": 23,
    "start_time": "2025-01-31T17:28:52.935Z"
   },
   {
    "duration": 4,
    "start_time": "2025-01-31T17:28:55.791Z"
   },
   {
    "duration": 5,
    "start_time": "2025-01-31T17:30:50.479Z"
   },
   {
    "duration": 5,
    "start_time": "2025-01-31T17:30:55.367Z"
   },
   {
    "duration": 39,
    "start_time": "2025-01-31T17:31:10.985Z"
   },
   {
    "duration": 8,
    "start_time": "2025-01-31T17:31:17.649Z"
   },
   {
    "duration": 10,
    "start_time": "2025-01-31T17:33:04.090Z"
   },
   {
    "duration": 7,
    "start_time": "2025-01-31T17:33:34.998Z"
   },
   {
    "duration": 3,
    "start_time": "2025-01-31T17:33:36.609Z"
   },
   {
    "duration": 4,
    "start_time": "2025-01-31T17:33:38.334Z"
   },
   {
    "duration": 26,
    "start_time": "2025-01-31T17:34:00.439Z"
   },
   {
    "duration": 18,
    "start_time": "2025-01-31T17:34:21.458Z"
   },
   {
    "duration": 24,
    "start_time": "2025-01-31T17:34:57.190Z"
   },
   {
    "duration": 22,
    "start_time": "2025-01-31T17:35:33.713Z"
   },
   {
    "duration": 22,
    "start_time": "2025-01-31T17:35:52.785Z"
   },
   {
    "duration": 22,
    "start_time": "2025-01-31T17:36:04.066Z"
   },
   {
    "duration": 4,
    "start_time": "2025-01-31T17:36:06.428Z"
   },
   {
    "duration": 6,
    "start_time": "2025-01-31T17:36:07.881Z"
   },
   {
    "duration": 3,
    "start_time": "2025-01-31T17:36:09.068Z"
   },
   {
    "duration": 19,
    "start_time": "2025-01-31T17:36:14.572Z"
   },
   {
    "duration": 5,
    "start_time": "2025-01-31T17:36:56.495Z"
   },
   {
    "duration": 4,
    "start_time": "2025-01-31T17:37:14.633Z"
   },
   {
    "duration": 4,
    "start_time": "2025-01-31T17:37:20.046Z"
   },
   {
    "duration": 5,
    "start_time": "2025-01-31T17:37:26.222Z"
   },
   {
    "duration": 20,
    "start_time": "2025-01-31T17:38:31.592Z"
   },
   {
    "duration": 36,
    "start_time": "2025-01-31T17:38:47.911Z"
   },
   {
    "duration": 28,
    "start_time": "2025-01-31T17:39:08.054Z"
   },
   {
    "duration": 36,
    "start_time": "2025-01-31T17:39:16.106Z"
   },
   {
    "duration": 33,
    "start_time": "2025-01-31T17:39:23.992Z"
   },
   {
    "duration": 34,
    "start_time": "2025-01-31T17:39:49.819Z"
   },
   {
    "duration": 39,
    "start_time": "2025-01-31T17:39:54.396Z"
   },
   {
    "duration": 36,
    "start_time": "2025-01-31T17:40:04.744Z"
   },
   {
    "duration": 10,
    "start_time": "2025-01-31T17:40:33.773Z"
   },
   {
    "duration": 7,
    "start_time": "2025-01-31T17:40:46.187Z"
   },
   {
    "duration": 34,
    "start_time": "2025-01-31T17:41:02.729Z"
   },
   {
    "duration": 18,
    "start_time": "2025-01-31T17:41:23.130Z"
   },
   {
    "duration": 17,
    "start_time": "2025-01-31T17:41:35.578Z"
   },
   {
    "duration": 2,
    "start_time": "2025-01-31T17:41:56.083Z"
   },
   {
    "duration": 115,
    "start_time": "2025-01-31T17:41:56.087Z"
   },
   {
    "duration": 17,
    "start_time": "2025-01-31T17:41:56.204Z"
   },
   {
    "duration": 21,
    "start_time": "2025-01-31T17:41:56.224Z"
   },
   {
    "duration": 4,
    "start_time": "2025-01-31T17:41:59.204Z"
   },
   {
    "duration": 6,
    "start_time": "2025-01-31T17:42:03.064Z"
   },
   {
    "duration": 4,
    "start_time": "2025-01-31T17:42:04.286Z"
   },
   {
    "duration": 18,
    "start_time": "2025-01-31T17:42:06.383Z"
   },
   {
    "duration": 9,
    "start_time": "2025-01-31T17:42:15.539Z"
   },
   {
    "duration": 26,
    "start_time": "2025-01-31T17:42:52.021Z"
   },
   {
    "duration": 29,
    "start_time": "2025-01-31T17:43:01.185Z"
   },
   {
    "duration": 27,
    "start_time": "2025-01-31T17:43:12.145Z"
   },
   {
    "duration": 38,
    "start_time": "2025-01-31T17:43:23.349Z"
   },
   {
    "duration": 42,
    "start_time": "2025-01-31T17:43:31.343Z"
   },
   {
    "duration": 37,
    "start_time": "2025-01-31T17:43:40.572Z"
   },
   {
    "duration": 31,
    "start_time": "2025-01-31T17:43:45.604Z"
   },
   {
    "duration": 18,
    "start_time": "2025-01-31T17:44:02.268Z"
   },
   {
    "duration": 56,
    "start_time": "2025-01-31T17:44:34.684Z"
   },
   {
    "duration": 41,
    "start_time": "2025-01-31T17:44:40.906Z"
   },
   {
    "duration": 41,
    "start_time": "2025-01-31T17:44:49.758Z"
   },
   {
    "duration": 40,
    "start_time": "2025-01-31T17:44:58.413Z"
   },
   {
    "duration": 43,
    "start_time": "2025-01-31T17:45:32.470Z"
   },
   {
    "duration": 50,
    "start_time": "2025-01-31T17:45:37.881Z"
   },
   {
    "duration": 46,
    "start_time": "2025-01-31T17:46:01.935Z"
   },
   {
    "duration": 472,
    "start_time": "2025-01-31T17:46:23.075Z"
   },
   {
    "duration": 52,
    "start_time": "2025-01-31T17:46:35.404Z"
   },
   {
    "duration": 43,
    "start_time": "2025-01-31T17:46:40.194Z"
   },
   {
    "duration": 37,
    "start_time": "2025-01-31T17:46:44.260Z"
   },
   {
    "duration": 2,
    "start_time": "2025-01-31T17:47:44.458Z"
   },
   {
    "duration": 8,
    "start_time": "2025-01-31T17:47:52.574Z"
   },
   {
    "duration": 39,
    "start_time": "2025-01-31T17:47:58.837Z"
   },
   {
    "duration": 16,
    "start_time": "2025-01-31T17:48:06.813Z"
   },
   {
    "duration": 37,
    "start_time": "2025-01-31T17:48:10.058Z"
   },
   {
    "duration": 8,
    "start_time": "2025-01-31T17:48:21.579Z"
   },
   {
    "duration": 46,
    "start_time": "2025-01-31T17:48:33.131Z"
   },
   {
    "duration": 43,
    "start_time": "2025-01-31T17:48:40.791Z"
   },
   {
    "duration": 43,
    "start_time": "2025-01-31T17:48:50.024Z"
   },
   {
    "duration": 10,
    "start_time": "2025-01-31T17:49:40.965Z"
   },
   {
    "duration": 40,
    "start_time": "2025-01-31T17:51:24.593Z"
   },
   {
    "duration": 38,
    "start_time": "2025-01-31T17:51:37.951Z"
   },
   {
    "duration": 38,
    "start_time": "2025-01-31T17:51:49.630Z"
   },
   {
    "duration": 38,
    "start_time": "2025-01-31T17:51:54.966Z"
   },
   {
    "duration": 47,
    "start_time": "2025-01-31T17:52:06.124Z"
   },
   {
    "duration": 45,
    "start_time": "2025-01-31T17:52:44.148Z"
   },
   {
    "duration": 40,
    "start_time": "2025-01-31T17:53:14.396Z"
   },
   {
    "duration": 18,
    "start_time": "2025-01-31T17:53:38.024Z"
   },
   {
    "duration": 10,
    "start_time": "2025-01-31T17:53:54.772Z"
   },
   {
    "duration": 51,
    "start_time": "2025-01-31T17:55:51.230Z"
   },
   {
    "duration": 50,
    "start_time": "2025-01-31T17:56:09.291Z"
   },
   {
    "duration": 90,
    "start_time": "2025-01-31T17:56:32.367Z"
   },
   {
    "duration": 42,
    "start_time": "2025-01-31T17:57:35.821Z"
   },
   {
    "duration": 44,
    "start_time": "2025-01-31T17:58:05.952Z"
   },
   {
    "duration": 12,
    "start_time": "2025-01-31T17:58:11.986Z"
   },
   {
    "duration": 43,
    "start_time": "2025-01-31T17:58:24.285Z"
   },
   {
    "duration": 45,
    "start_time": "2025-01-31T17:58:33.216Z"
   },
   {
    "duration": 50,
    "start_time": "2025-01-31T17:58:49.333Z"
   },
   {
    "duration": 48,
    "start_time": "2025-01-31T17:58:54.503Z"
   },
   {
    "duration": 9,
    "start_time": "2025-01-31T17:59:20.401Z"
   },
   {
    "duration": 52,
    "start_time": "2025-01-31T18:00:29.682Z"
   },
   {
    "duration": 51,
    "start_time": "2025-01-31T18:02:25.494Z"
   },
   {
    "duration": 46,
    "start_time": "2025-01-31T18:02:28.723Z"
   },
   {
    "duration": 2,
    "start_time": "2025-01-31T18:02:34.731Z"
   },
   {
    "duration": 137,
    "start_time": "2025-01-31T18:02:34.736Z"
   },
   {
    "duration": 11,
    "start_time": "2025-01-31T18:02:34.874Z"
   },
   {
    "duration": 30,
    "start_time": "2025-01-31T18:02:34.888Z"
   },
   {
    "duration": 6,
    "start_time": "2025-01-31T18:02:34.920Z"
   },
   {
    "duration": 5,
    "start_time": "2025-01-31T18:02:34.929Z"
   },
   {
    "duration": 4,
    "start_time": "2025-01-31T18:02:34.936Z"
   },
   {
    "duration": 20,
    "start_time": "2025-01-31T18:02:34.942Z"
   },
   {
    "duration": 65,
    "start_time": "2025-01-31T18:02:34.965Z"
   },
   {
    "duration": 19,
    "start_time": "2025-01-31T18:02:35.031Z"
   },
   {
    "duration": 46,
    "start_time": "2025-01-31T18:02:35.051Z"
   },
   {
    "duration": 3,
    "start_time": "2025-01-31T18:02:55.298Z"
   },
   {
    "duration": 2,
    "start_time": "2025-01-31T18:03:01.871Z"
   },
   {
    "duration": 125,
    "start_time": "2025-01-31T18:03:01.875Z"
   },
   {
    "duration": 12,
    "start_time": "2025-01-31T18:03:02.001Z"
   },
   {
    "duration": 23,
    "start_time": "2025-01-31T18:03:02.016Z"
   },
   {
    "duration": 4,
    "start_time": "2025-01-31T18:03:02.040Z"
   },
   {
    "duration": 7,
    "start_time": "2025-01-31T18:03:02.045Z"
   },
   {
    "duration": 3,
    "start_time": "2025-01-31T18:03:02.055Z"
   },
   {
    "duration": 19,
    "start_time": "2025-01-31T18:03:02.061Z"
   },
   {
    "duration": 62,
    "start_time": "2025-01-31T18:03:02.082Z"
   },
   {
    "duration": 19,
    "start_time": "2025-01-31T18:03:02.146Z"
   },
   {
    "duration": 69,
    "start_time": "2025-01-31T18:03:02.167Z"
   },
   {
    "duration": 47,
    "start_time": "2025-01-31T18:03:02.239Z"
   },
   {
    "duration": 52,
    "start_time": "2025-01-31T18:03:02.288Z"
   },
   {
    "duration": 3,
    "start_time": "2025-01-31T18:03:02.341Z"
   },
   {
    "duration": 3,
    "start_time": "2025-01-31T18:03:02.345Z"
   },
   {
    "duration": 3,
    "start_time": "2025-01-31T18:03:02.350Z"
   },
   {
    "duration": 3,
    "start_time": "2025-01-31T18:03:02.355Z"
   },
   {
    "duration": 3,
    "start_time": "2025-01-31T18:03:02.359Z"
   },
   {
    "duration": 3,
    "start_time": "2025-01-31T18:03:02.364Z"
   },
   {
    "duration": 3,
    "start_time": "2025-01-31T18:03:02.368Z"
   },
   {
    "duration": 3,
    "start_time": "2025-01-31T18:03:02.373Z"
   },
   {
    "duration": 34,
    "start_time": "2025-01-31T18:03:02.377Z"
   },
   {
    "duration": 2,
    "start_time": "2025-01-31T18:03:02.413Z"
   },
   {
    "duration": 1,
    "start_time": "2025-01-31T18:03:02.419Z"
   },
   {
    "duration": 21,
    "start_time": "2025-01-31T18:04:16.045Z"
   },
   {
    "duration": 20,
    "start_time": "2025-01-31T18:04:38.964Z"
   },
   {
    "duration": 24,
    "start_time": "2025-01-31T18:04:44.705Z"
   },
   {
    "duration": 30,
    "start_time": "2025-01-31T18:04:58.310Z"
   },
   {
    "duration": 20,
    "start_time": "2025-01-31T18:05:01.268Z"
   },
   {
    "duration": 36,
    "start_time": "2025-01-31T18:05:08.088Z"
   },
   {
    "duration": 25,
    "start_time": "2025-01-31T18:05:16.007Z"
   },
   {
    "duration": 17,
    "start_time": "2025-01-31T18:05:22.397Z"
   },
   {
    "duration": 41,
    "start_time": "2025-01-31T18:05:36.045Z"
   },
   {
    "duration": 43,
    "start_time": "2025-01-31T18:05:51.304Z"
   },
   {
    "duration": 44,
    "start_time": "2025-01-31T18:06:46.087Z"
   },
   {
    "duration": 50,
    "start_time": "2025-01-31T18:06:48.814Z"
   },
   {
    "duration": 37,
    "start_time": "2025-01-31T18:08:16.585Z"
   },
   {
    "duration": 39,
    "start_time": "2025-01-31T18:08:24.662Z"
   },
   {
    "duration": 35,
    "start_time": "2025-01-31T18:08:42.802Z"
   },
   {
    "duration": 39,
    "start_time": "2025-01-31T18:08:48.296Z"
   },
   {
    "duration": 43,
    "start_time": "2025-01-31T18:08:54.066Z"
   },
   {
    "duration": 67,
    "start_time": "2025-01-31T18:09:09.365Z"
   },
   {
    "duration": 40,
    "start_time": "2025-01-31T18:10:52.760Z"
   },
   {
    "duration": 43,
    "start_time": "2025-01-31T18:11:05.469Z"
   },
   {
    "duration": 42,
    "start_time": "2025-01-31T18:11:11.885Z"
   },
   {
    "duration": 2,
    "start_time": "2025-01-31T18:11:29.214Z"
   },
   {
    "duration": 115,
    "start_time": "2025-01-31T18:11:29.226Z"
   },
   {
    "duration": 10,
    "start_time": "2025-01-31T18:11:29.344Z"
   },
   {
    "duration": 22,
    "start_time": "2025-01-31T18:11:29.356Z"
   },
   {
    "duration": 4,
    "start_time": "2025-01-31T18:11:29.380Z"
   },
   {
    "duration": 6,
    "start_time": "2025-01-31T18:11:29.411Z"
   },
   {
    "duration": 6,
    "start_time": "2025-01-31T18:11:29.418Z"
   },
   {
    "duration": 19,
    "start_time": "2025-01-31T18:11:29.426Z"
   },
   {
    "duration": 24,
    "start_time": "2025-01-31T18:11:29.447Z"
   },
   {
    "duration": 43,
    "start_time": "2025-01-31T18:11:29.472Z"
   },
   {
    "duration": 42,
    "start_time": "2025-01-31T18:11:29.517Z"
   },
   {
    "duration": 62,
    "start_time": "2025-01-31T18:11:29.561Z"
   },
   {
    "duration": 59,
    "start_time": "2025-01-31T18:11:29.625Z"
   },
   {
    "duration": 11,
    "start_time": "2025-01-31T18:13:01.573Z"
   },
   {
    "duration": 6,
    "start_time": "2025-01-31T18:13:08.878Z"
   },
   {
    "duration": 14,
    "start_time": "2025-01-31T18:13:58.558Z"
   },
   {
    "duration": 14,
    "start_time": "2025-01-31T18:14:03.173Z"
   },
   {
    "duration": 6,
    "start_time": "2025-01-31T18:14:12.231Z"
   },
   {
    "duration": 15,
    "start_time": "2025-01-31T18:14:22.398Z"
   },
   {
    "duration": 5,
    "start_time": "2025-01-31T18:14:36.725Z"
   },
   {
    "duration": 4,
    "start_time": "2025-01-31T18:14:39.973Z"
   },
   {
    "duration": 5,
    "start_time": "2025-01-31T18:14:57.827Z"
   },
   {
    "duration": 5,
    "start_time": "2025-01-31T18:15:03.831Z"
   },
   {
    "duration": 7,
    "start_time": "2025-01-31T18:15:06.474Z"
   },
   {
    "duration": 8,
    "start_time": "2025-01-31T18:15:11.870Z"
   },
   {
    "duration": 5,
    "start_time": "2025-01-31T18:16:03.069Z"
   },
   {
    "duration": 9,
    "start_time": "2025-01-31T18:17:08.619Z"
   },
   {
    "duration": 10,
    "start_time": "2025-01-31T18:17:13.036Z"
   },
   {
    "duration": 13,
    "start_time": "2025-01-31T18:17:18.550Z"
   },
   {
    "duration": 10,
    "start_time": "2025-01-31T18:17:27.393Z"
   },
   {
    "duration": 13,
    "start_time": "2025-01-31T18:17:49.603Z"
   },
   {
    "duration": 11,
    "start_time": "2025-01-31T18:17:55.442Z"
   },
   {
    "duration": 12,
    "start_time": "2025-01-31T18:18:34.375Z"
   },
   {
    "duration": 11,
    "start_time": "2025-01-31T18:18:40.066Z"
   },
   {
    "duration": 12,
    "start_time": "2025-01-31T18:18:50.061Z"
   },
   {
    "duration": 12,
    "start_time": "2025-01-31T18:19:19.072Z"
   },
   {
    "duration": 11,
    "start_time": "2025-01-31T18:19:28.433Z"
   },
   {
    "duration": 31,
    "start_time": "2025-01-31T18:19:57.159Z"
   },
   {
    "duration": 37,
    "start_time": "2025-01-31T18:20:43.101Z"
   },
   {
    "duration": 32,
    "start_time": "2025-01-31T18:20:56.061Z"
   },
   {
    "duration": 39,
    "start_time": "2025-01-31T18:21:21.336Z"
   },
   {
    "duration": 17,
    "start_time": "2025-01-31T18:21:57.992Z"
   },
   {
    "duration": 31,
    "start_time": "2025-01-31T18:22:08.488Z"
   },
   {
    "duration": 155,
    "start_time": "2025-01-31T18:22:42.305Z"
   },
   {
    "duration": 125,
    "start_time": "2025-01-31T18:22:55.113Z"
   },
   {
    "duration": 38,
    "start_time": "2025-01-31T18:23:20.842Z"
   },
   {
    "duration": 30,
    "start_time": "2025-01-31T18:23:31.321Z"
   },
   {
    "duration": 28,
    "start_time": "2025-01-31T18:23:38.230Z"
   },
   {
    "duration": 31,
    "start_time": "2025-01-31T18:23:43.173Z"
   },
   {
    "duration": 35,
    "start_time": "2025-01-31T18:23:51.358Z"
   },
   {
    "duration": 43,
    "start_time": "2025-01-31T18:28:02.903Z"
   },
   {
    "duration": 86,
    "start_time": "2025-01-31T18:28:12.945Z"
   },
   {
    "duration": 44,
    "start_time": "2025-01-31T18:31:24.519Z"
   },
   {
    "duration": 17,
    "start_time": "2025-01-31T18:32:02.000Z"
   },
   {
    "duration": 17,
    "start_time": "2025-01-31T18:32:30.357Z"
   },
   {
    "duration": 19,
    "start_time": "2025-01-31T18:32:40.980Z"
   },
   {
    "duration": 13,
    "start_time": "2025-01-31T18:32:50.865Z"
   },
   {
    "duration": 9,
    "start_time": "2025-01-31T18:33:19.069Z"
   },
   {
    "duration": 7,
    "start_time": "2025-01-31T18:33:31.977Z"
   },
   {
    "duration": 33,
    "start_time": "2025-01-31T18:33:44.552Z"
   },
   {
    "duration": 13,
    "start_time": "2025-01-31T18:34:01.261Z"
   },
   {
    "duration": 33,
    "start_time": "2025-01-31T18:34:14.282Z"
   },
   {
    "duration": 42,
    "start_time": "2025-01-31T18:34:40.351Z"
   },
   {
    "duration": 31,
    "start_time": "2025-01-31T18:34:46.920Z"
   },
   {
    "duration": 36,
    "start_time": "2025-01-31T18:34:53.879Z"
   },
   {
    "duration": 33,
    "start_time": "2025-01-31T18:34:56.786Z"
   },
   {
    "duration": 35,
    "start_time": "2025-01-31T18:35:17.560Z"
   },
   {
    "duration": 6,
    "start_time": "2025-01-31T18:35:35.467Z"
   },
   {
    "duration": 3,
    "start_time": "2025-01-31T18:45:45.803Z"
   },
   {
    "duration": 5,
    "start_time": "2025-01-31T18:45:47.593Z"
   },
   {
    "duration": 20,
    "start_time": "2025-01-31T18:46:20.802Z"
   },
   {
    "duration": 18,
    "start_time": "2025-01-31T18:46:22.892Z"
   },
   {
    "duration": 12,
    "start_time": "2025-01-31T18:46:32.372Z"
   },
   {
    "duration": 6,
    "start_time": "2025-01-31T18:46:42.420Z"
   },
   {
    "duration": 9,
    "start_time": "2025-01-31T18:46:53.740Z"
   },
   {
    "duration": 6,
    "start_time": "2025-01-31T18:46:56.488Z"
   },
   {
    "duration": 5,
    "start_time": "2025-01-31T18:47:13.843Z"
   },
   {
    "duration": 3,
    "start_time": "2025-01-31T18:48:11.931Z"
   },
   {
    "duration": 9,
    "start_time": "2025-01-31T18:48:13.482Z"
   },
   {
    "duration": 5,
    "start_time": "2025-01-31T18:48:15.644Z"
   },
   {
    "duration": 9,
    "start_time": "2025-01-31T18:48:28.032Z"
   },
   {
    "duration": 132,
    "start_time": "2025-01-31T18:48:28.046Z"
   },
   {
    "duration": 12,
    "start_time": "2025-01-31T18:48:28.180Z"
   },
   {
    "duration": 34,
    "start_time": "2025-01-31T18:48:28.195Z"
   },
   {
    "duration": 4,
    "start_time": "2025-01-31T18:48:28.231Z"
   },
   {
    "duration": 6,
    "start_time": "2025-01-31T18:48:28.238Z"
   },
   {
    "duration": 4,
    "start_time": "2025-01-31T18:48:28.245Z"
   },
   {
    "duration": 19,
    "start_time": "2025-01-31T18:48:28.251Z"
   },
   {
    "duration": 56,
    "start_time": "2025-01-31T18:48:28.272Z"
   },
   {
    "duration": 26,
    "start_time": "2025-01-31T18:48:28.331Z"
   },
   {
    "duration": 53,
    "start_time": "2025-01-31T18:48:28.359Z"
   },
   {
    "duration": 46,
    "start_time": "2025-01-31T18:48:28.414Z"
   },
   {
    "duration": 72,
    "start_time": "2025-01-31T18:48:28.462Z"
   },
   {
    "duration": 62,
    "start_time": "2025-01-31T18:48:28.536Z"
   },
   {
    "duration": 6,
    "start_time": "2025-01-31T18:48:28.613Z"
   },
   {
    "duration": 2,
    "start_time": "2025-01-31T18:48:28.621Z"
   },
   {
    "duration": 19,
    "start_time": "2025-01-31T18:48:28.625Z"
   },
   {
    "duration": 5,
    "start_time": "2025-01-31T18:48:28.646Z"
   },
   {
    "duration": 2,
    "start_time": "2025-01-31T18:48:48.263Z"
   },
   {
    "duration": 2,
    "start_time": "2025-01-31T18:48:55.661Z"
   },
   {
    "duration": 117,
    "start_time": "2025-01-31T18:48:55.665Z"
   },
   {
    "duration": 10,
    "start_time": "2025-01-31T18:48:55.784Z"
   },
   {
    "duration": 35,
    "start_time": "2025-01-31T18:48:55.797Z"
   },
   {
    "duration": 3,
    "start_time": "2025-01-31T18:48:55.834Z"
   },
   {
    "duration": 5,
    "start_time": "2025-01-31T18:48:55.839Z"
   },
   {
    "duration": 4,
    "start_time": "2025-01-31T18:48:55.846Z"
   },
   {
    "duration": 19,
    "start_time": "2025-01-31T18:48:55.851Z"
   },
   {
    "duration": 53,
    "start_time": "2025-01-31T18:48:55.873Z"
   },
   {
    "duration": 19,
    "start_time": "2025-01-31T18:48:55.928Z"
   },
   {
    "duration": 39,
    "start_time": "2025-01-31T18:48:55.949Z"
   },
   {
    "duration": 62,
    "start_time": "2025-01-31T18:48:55.990Z"
   },
   {
    "duration": 71,
    "start_time": "2025-01-31T18:48:56.054Z"
   },
   {
    "duration": 39,
    "start_time": "2025-01-31T18:48:56.127Z"
   },
   {
    "duration": 6,
    "start_time": "2025-01-31T18:48:56.168Z"
   },
   {
    "duration": 2,
    "start_time": "2025-01-31T18:48:56.176Z"
   },
   {
    "duration": 39,
    "start_time": "2025-01-31T18:48:56.181Z"
   },
   {
    "duration": 2,
    "start_time": "2025-01-31T18:49:12.089Z"
   },
   {
    "duration": 112,
    "start_time": "2025-01-31T18:49:12.100Z"
   },
   {
    "duration": 10,
    "start_time": "2025-01-31T18:49:12.214Z"
   },
   {
    "duration": 21,
    "start_time": "2025-01-31T18:49:12.226Z"
   },
   {
    "duration": 3,
    "start_time": "2025-01-31T18:49:12.249Z"
   },
   {
    "duration": 4,
    "start_time": "2025-01-31T18:49:12.254Z"
   },
   {
    "duration": 4,
    "start_time": "2025-01-31T18:49:12.260Z"
   },
   {
    "duration": 17,
    "start_time": "2025-01-31T18:49:12.266Z"
   },
   {
    "duration": 24,
    "start_time": "2025-01-31T18:49:12.312Z"
   },
   {
    "duration": 18,
    "start_time": "2025-01-31T18:49:12.337Z"
   },
   {
    "duration": 55,
    "start_time": "2025-01-31T18:49:12.357Z"
   },
   {
    "duration": 44,
    "start_time": "2025-01-31T18:49:12.414Z"
   },
   {
    "duration": 73,
    "start_time": "2025-01-31T18:49:12.459Z"
   },
   {
    "duration": 39,
    "start_time": "2025-01-31T18:49:12.534Z"
   },
   {
    "duration": 6,
    "start_time": "2025-01-31T18:49:12.577Z"
   },
   {
    "duration": 2,
    "start_time": "2025-01-31T18:49:12.584Z"
   },
   {
    "duration": 39,
    "start_time": "2025-01-31T18:49:12.588Z"
   },
   {
    "duration": 3,
    "start_time": "2025-01-31T18:49:18.007Z"
   },
   {
    "duration": 122,
    "start_time": "2025-01-31T18:49:18.021Z"
   },
   {
    "duration": 10,
    "start_time": "2025-01-31T18:49:18.145Z"
   },
   {
    "duration": 22,
    "start_time": "2025-01-31T18:49:18.156Z"
   },
   {
    "duration": 4,
    "start_time": "2025-01-31T18:49:18.180Z"
   },
   {
    "duration": 26,
    "start_time": "2025-01-31T18:49:18.186Z"
   },
   {
    "duration": 3,
    "start_time": "2025-01-31T18:49:18.214Z"
   },
   {
    "duration": 19,
    "start_time": "2025-01-31T18:49:18.219Z"
   },
   {
    "duration": 24,
    "start_time": "2025-01-31T18:49:18.239Z"
   },
   {
    "duration": 18,
    "start_time": "2025-01-31T18:49:18.265Z"
   },
   {
    "duration": 68,
    "start_time": "2025-01-31T18:49:18.284Z"
   },
   {
    "duration": 43,
    "start_time": "2025-01-31T18:49:18.354Z"
   },
   {
    "duration": 70,
    "start_time": "2025-01-31T18:49:18.398Z"
   },
   {
    "duration": 50,
    "start_time": "2025-01-31T18:49:18.470Z"
   },
   {
    "duration": 6,
    "start_time": "2025-01-31T18:49:18.523Z"
   },
   {
    "duration": 3,
    "start_time": "2025-01-31T18:49:18.530Z"
   },
   {
    "duration": 20,
    "start_time": "2025-01-31T18:49:18.534Z"
   },
   {
    "duration": 4,
    "start_time": "2025-01-31T18:49:18.556Z"
   },
   {
    "duration": 13,
    "start_time": "2025-01-31T18:52:38.417Z"
   },
   {
    "duration": 27,
    "start_time": "2025-01-31T18:52:43.902Z"
   },
   {
    "duration": 6,
    "start_time": "2025-01-31T18:52:55.110Z"
   },
   {
    "duration": 15,
    "start_time": "2025-01-31T18:53:00.703Z"
   },
   {
    "duration": 3,
    "start_time": "2025-02-05T19:04:59.748Z"
   },
   {
    "duration": 313,
    "start_time": "2025-02-05T19:06:27.084Z"
   },
   {
    "duration": 144,
    "start_time": "2025-02-05T19:06:27.400Z"
   },
   {
    "duration": 14,
    "start_time": "2025-02-05T19:06:27.546Z"
   },
   {
    "duration": 32,
    "start_time": "2025-02-05T19:06:27.562Z"
   },
   {
    "duration": 4,
    "start_time": "2025-02-05T19:06:27.597Z"
   },
   {
    "duration": 5,
    "start_time": "2025-02-05T19:06:27.603Z"
   },
   {
    "duration": 4,
    "start_time": "2025-02-05T19:06:27.610Z"
   },
   {
    "duration": 19,
    "start_time": "2025-02-05T19:06:27.615Z"
   },
   {
    "duration": 59,
    "start_time": "2025-02-05T19:06:27.636Z"
   },
   {
    "duration": 19,
    "start_time": "2025-02-05T19:06:27.696Z"
   },
   {
    "duration": 41,
    "start_time": "2025-02-05T19:06:27.716Z"
   },
   {
    "duration": 66,
    "start_time": "2025-02-05T19:06:27.759Z"
   },
   {
    "duration": 70,
    "start_time": "2025-02-05T19:06:27.827Z"
   },
   {
    "duration": 41,
    "start_time": "2025-02-05T19:06:27.900Z"
   },
   {
    "duration": 6,
    "start_time": "2025-02-05T19:06:27.942Z"
   },
   {
    "duration": 2,
    "start_time": "2025-02-05T19:06:27.950Z"
   },
   {
    "duration": 45,
    "start_time": "2025-02-05T19:06:27.954Z"
   },
   {
    "duration": 5,
    "start_time": "2025-02-05T19:06:28.000Z"
   },
   {
    "duration": 7,
    "start_time": "2025-02-05T19:06:28.007Z"
   },
   {
    "duration": 10,
    "start_time": "2025-02-05T19:06:28.016Z"
   },
   {
    "duration": 10,
    "start_time": "2025-02-05T19:06:28.028Z"
   },
   {
    "duration": 5,
    "start_time": "2025-02-05T19:06:28.039Z"
   },
   {
    "duration": 46,
    "start_time": "2025-02-05T19:06:28.045Z"
   },
   {
    "duration": 5,
    "start_time": "2025-02-05T19:06:28.093Z"
   },
   {
    "duration": 4,
    "start_time": "2025-02-05T19:11:32.696Z"
   },
   {
    "duration": 132,
    "start_time": "2025-02-05T19:11:32.702Z"
   },
   {
    "duration": 11,
    "start_time": "2025-02-05T19:11:32.836Z"
   },
   {
    "duration": 41,
    "start_time": "2025-02-05T19:11:32.851Z"
   },
   {
    "duration": 6,
    "start_time": "2025-02-05T19:11:32.894Z"
   },
   {
    "duration": 11,
    "start_time": "2025-02-05T19:11:32.902Z"
   },
   {
    "duration": 5,
    "start_time": "2025-02-05T19:11:32.915Z"
   },
   {
    "duration": 24,
    "start_time": "2025-02-05T19:11:32.922Z"
   },
   {
    "duration": 48,
    "start_time": "2025-02-05T19:11:32.948Z"
   },
   {
    "duration": 31,
    "start_time": "2025-02-05T19:11:32.999Z"
   },
   {
    "duration": 42,
    "start_time": "2025-02-05T19:11:33.032Z"
   },
   {
    "duration": 86,
    "start_time": "2025-02-05T19:11:33.076Z"
   },
   {
    "duration": 90,
    "start_time": "2025-02-05T19:11:33.165Z"
   },
   {
    "duration": 47,
    "start_time": "2025-02-05T19:11:33.257Z"
   },
   {
    "duration": 9,
    "start_time": "2025-02-05T19:11:33.307Z"
   },
   {
    "duration": 2,
    "start_time": "2025-02-05T19:11:35.870Z"
   },
   {
    "duration": 27,
    "start_time": "2025-02-05T19:12:49.648Z"
   },
   {
    "duration": 4,
    "start_time": "2025-02-05T19:13:02.870Z"
   },
   {
    "duration": 231,
    "start_time": "2025-02-05T19:13:05.819Z"
   },
   {
    "duration": 4,
    "start_time": "2025-02-05T19:13:28.130Z"
   },
   {
    "duration": 15,
    "start_time": "2025-02-05T19:13:29.632Z"
   },
   {
    "duration": 16,
    "start_time": "2025-02-05T19:14:28.663Z"
   },
   {
    "duration": 10,
    "start_time": "2025-02-05T19:14:35.269Z"
   },
   {
    "duration": 2,
    "start_time": "2025-02-05T19:14:48.269Z"
   },
   {
    "duration": 114,
    "start_time": "2025-02-05T19:14:48.273Z"
   },
   {
    "duration": 10,
    "start_time": "2025-02-05T19:14:48.389Z"
   },
   {
    "duration": 23,
    "start_time": "2025-02-05T19:14:48.401Z"
   },
   {
    "duration": 5,
    "start_time": "2025-02-05T19:14:48.426Z"
   },
   {
    "duration": 5,
    "start_time": "2025-02-05T19:14:48.432Z"
   },
   {
    "duration": 4,
    "start_time": "2025-02-05T19:14:48.439Z"
   },
   {
    "duration": 49,
    "start_time": "2025-02-05T19:14:48.444Z"
   },
   {
    "duration": 25,
    "start_time": "2025-02-05T19:14:48.494Z"
   },
   {
    "duration": 18,
    "start_time": "2025-02-05T19:14:48.521Z"
   },
   {
    "duration": 61,
    "start_time": "2025-02-05T19:14:48.542Z"
   },
   {
    "duration": 45,
    "start_time": "2025-02-05T19:14:48.605Z"
   },
   {
    "duration": 76,
    "start_time": "2025-02-05T19:14:48.653Z"
   },
   {
    "duration": 39,
    "start_time": "2025-02-05T19:14:48.731Z"
   },
   {
    "duration": 18,
    "start_time": "2025-02-05T19:14:48.772Z"
   },
   {
    "duration": 3,
    "start_time": "2025-02-05T19:14:48.792Z"
   },
   {
    "duration": 15,
    "start_time": "2025-02-05T19:18:23.338Z"
   },
   {
    "duration": 17,
    "start_time": "2025-02-05T19:18:30.203Z"
   },
   {
    "duration": 11,
    "start_time": "2025-02-05T19:31:57.585Z"
   },
   {
    "duration": 8,
    "start_time": "2025-02-05T19:32:06.774Z"
   },
   {
    "duration": 9,
    "start_time": "2025-02-05T19:32:21.413Z"
   },
   {
    "duration": 22,
    "start_time": "2025-02-05T19:32:31.067Z"
   },
   {
    "duration": 35,
    "start_time": "2025-02-05T19:33:02.048Z"
   },
   {
    "duration": 7,
    "start_time": "2025-02-05T19:33:28.741Z"
   },
   {
    "duration": 2,
    "start_time": "2025-02-05T19:33:59.883Z"
   },
   {
    "duration": 143,
    "start_time": "2025-02-05T19:33:59.891Z"
   },
   {
    "duration": 10,
    "start_time": "2025-02-05T19:34:00.037Z"
   },
   {
    "duration": 38,
    "start_time": "2025-02-05T19:34:00.049Z"
   },
   {
    "duration": 4,
    "start_time": "2025-02-05T19:34:00.089Z"
   },
   {
    "duration": 5,
    "start_time": "2025-02-05T19:34:00.095Z"
   },
   {
    "duration": 3,
    "start_time": "2025-02-05T19:34:00.102Z"
   },
   {
    "duration": 18,
    "start_time": "2025-02-05T19:34:00.107Z"
   },
   {
    "duration": 25,
    "start_time": "2025-02-05T19:34:00.126Z"
   },
   {
    "duration": 53,
    "start_time": "2025-02-05T19:34:00.152Z"
   },
   {
    "duration": 41,
    "start_time": "2025-02-05T19:34:00.207Z"
   },
   {
    "duration": 80,
    "start_time": "2025-02-05T19:34:00.250Z"
   },
   {
    "duration": 64,
    "start_time": "2025-02-05T19:34:00.332Z"
   },
   {
    "duration": 39,
    "start_time": "2025-02-05T19:34:00.398Z"
   },
   {
    "duration": 8,
    "start_time": "2025-02-05T19:34:00.441Z"
   },
   {
    "duration": 9,
    "start_time": "2025-02-05T19:34:00.453Z"
   },
   {
    "duration": 43,
    "start_time": "2025-02-05T19:34:00.464Z"
   },
   {
    "duration": 7,
    "start_time": "2025-02-05T19:34:00.508Z"
   },
   {
    "duration": 9,
    "start_time": "2025-02-05T19:34:00.518Z"
   },
   {
    "duration": 8,
    "start_time": "2025-02-05T19:34:00.529Z"
   },
   {
    "duration": 11,
    "start_time": "2025-02-05T19:34:00.539Z"
   },
   {
    "duration": 34,
    "start_time": "2025-02-05T19:34:00.552Z"
   },
   {
    "duration": 8,
    "start_time": "2025-02-05T19:34:00.589Z"
   },
   {
    "duration": 6,
    "start_time": "2025-02-05T19:34:00.599Z"
   },
   {
    "duration": 3,
    "start_time": "2025-02-05T19:34:44.832Z"
   },
   {
    "duration": 7,
    "start_time": "2025-02-05T19:36:01.269Z"
   },
   {
    "duration": 2,
    "start_time": "2025-02-05T19:38:02.540Z"
   },
   {
    "duration": 18,
    "start_time": "2025-02-05T19:38:04.957Z"
   },
   {
    "duration": 18,
    "start_time": "2025-02-05T19:38:40.711Z"
   },
   {
    "duration": 6,
    "start_time": "2025-02-05T19:47:34.496Z"
   },
   {
    "duration": 5,
    "start_time": "2025-02-05T19:47:37.747Z"
   },
   {
    "duration": 2,
    "start_time": "2025-02-05T19:48:09.248Z"
   },
   {
    "duration": 118,
    "start_time": "2025-02-05T19:48:09.252Z"
   },
   {
    "duration": 16,
    "start_time": "2025-02-05T19:48:09.371Z"
   },
   {
    "duration": 23,
    "start_time": "2025-02-05T19:48:09.389Z"
   },
   {
    "duration": 4,
    "start_time": "2025-02-05T19:48:09.414Z"
   },
   {
    "duration": 5,
    "start_time": "2025-02-05T19:48:09.419Z"
   },
   {
    "duration": 4,
    "start_time": "2025-02-05T19:48:09.426Z"
   },
   {
    "duration": 19,
    "start_time": "2025-02-05T19:48:09.431Z"
   },
   {
    "duration": 53,
    "start_time": "2025-02-05T19:48:09.452Z"
   },
   {
    "duration": 19,
    "start_time": "2025-02-05T19:48:09.506Z"
   },
   {
    "duration": 61,
    "start_time": "2025-02-05T19:48:09.526Z"
   },
   {
    "duration": 45,
    "start_time": "2025-02-05T19:48:09.589Z"
   },
   {
    "duration": 68,
    "start_time": "2025-02-05T19:48:09.638Z"
   },
   {
    "duration": 40,
    "start_time": "2025-02-05T19:48:09.708Z"
   },
   {
    "duration": 6,
    "start_time": "2025-02-05T19:48:09.749Z"
   },
   {
    "duration": 30,
    "start_time": "2025-02-05T19:48:09.757Z"
   },
   {
    "duration": 24,
    "start_time": "2025-02-05T19:48:09.790Z"
   },
   {
    "duration": 5,
    "start_time": "2025-02-05T19:48:09.816Z"
   },
   {
    "duration": 9,
    "start_time": "2025-02-05T19:48:09.823Z"
   },
   {
    "duration": 10,
    "start_time": "2025-02-05T19:48:09.834Z"
   },
   {
    "duration": 12,
    "start_time": "2025-02-05T19:48:09.845Z"
   },
   {
    "duration": 5,
    "start_time": "2025-02-05T19:48:09.886Z"
   },
   {
    "duration": 8,
    "start_time": "2025-02-05T19:48:09.893Z"
   },
   {
    "duration": 5,
    "start_time": "2025-02-05T19:48:09.903Z"
   },
   {
    "duration": 3,
    "start_time": "2025-02-05T19:48:52.076Z"
   },
   {
    "duration": 116,
    "start_time": "2025-02-05T19:48:52.081Z"
   },
   {
    "duration": 9,
    "start_time": "2025-02-05T19:48:52.199Z"
   },
   {
    "duration": 21,
    "start_time": "2025-02-05T19:48:52.210Z"
   },
   {
    "duration": 3,
    "start_time": "2025-02-05T19:48:52.233Z"
   },
   {
    "duration": 5,
    "start_time": "2025-02-05T19:48:52.238Z"
   },
   {
    "duration": 3,
    "start_time": "2025-02-05T19:48:52.245Z"
   },
   {
    "duration": 47,
    "start_time": "2025-02-05T19:48:52.250Z"
   },
   {
    "duration": 25,
    "start_time": "2025-02-05T19:48:52.299Z"
   },
   {
    "duration": 18,
    "start_time": "2025-02-05T19:48:52.325Z"
   },
   {
    "duration": 61,
    "start_time": "2025-02-05T19:48:52.345Z"
   },
   {
    "duration": 44,
    "start_time": "2025-02-05T19:48:52.407Z"
   },
   {
    "duration": 75,
    "start_time": "2025-02-05T19:48:52.454Z"
   },
   {
    "duration": 39,
    "start_time": "2025-02-05T19:48:52.531Z"
   },
   {
    "duration": 16,
    "start_time": "2025-02-05T19:48:52.572Z"
   },
   {
    "duration": 3,
    "start_time": "2025-02-05T19:48:52.589Z"
   },
   {
    "duration": 18,
    "start_time": "2025-02-05T19:48:52.594Z"
   },
   {
    "duration": 4,
    "start_time": "2025-02-05T19:48:52.614Z"
   },
   {
    "duration": 7,
    "start_time": "2025-02-05T19:48:52.620Z"
   },
   {
    "duration": 8,
    "start_time": "2025-02-05T19:48:52.628Z"
   },
   {
    "duration": 10,
    "start_time": "2025-02-05T19:48:52.637Z"
   },
   {
    "duration": 39,
    "start_time": "2025-02-05T19:48:52.649Z"
   },
   {
    "duration": 8,
    "start_time": "2025-02-05T19:48:52.690Z"
   },
   {
    "duration": 5,
    "start_time": "2025-02-05T19:48:52.700Z"
   }
  ],
  "kernelspec": {
   "display_name": "Python 3 (ipykernel)",
   "language": "python",
   "name": "python3"
  },
  "language_info": {
   "codemirror_mode": {
    "name": "ipython",
    "version": 3
   },
   "file_extension": ".py",
   "mimetype": "text/x-python",
   "name": "python",
   "nbconvert_exporter": "python",
   "pygments_lexer": "ipython3",
   "version": "3.9.19"
  },
  "toc": {
   "base_numbering": 1,
   "nav_menu": {},
   "number_sections": true,
   "sideBar": true,
   "skip_h1_title": true,
   "title_cell": "Table of Contents",
   "title_sidebar": "Contents",
   "toc_cell": false,
   "toc_position": {
    "height": "calc(100% - 180px)",
    "left": "10px",
    "top": "150px",
    "width": "262.173px"
   },
   "toc_section_display": true,
   "toc_window_display": false
  }
 },
 "nbformat": 4,
 "nbformat_minor": 5
}
